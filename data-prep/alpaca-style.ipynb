{
 "cells": [
  {
   "cell_type": "code",
   "execution_count": 24,
   "id": "f5990eec-b7a9-4090-a8d5-01a2d18fbe21",
   "metadata": {},
   "outputs": [],
   "source": [
    "import pandas as pd\n",
    "\n",
    "df=pd.read_csv(\"train_data.csv\")\n",
    "\n",
    "\n",
    "\n",
    "# List of label columns to transform\n",
    "label_cols = ['toxic', 'severe_toxic', 'obscene', 'threat', 'insult', 'identity_hate']\n",
    "\n",
    "# Replace 1 with \"yes\" and 0 with \"no\" in the label columns\n",
    "df[label_cols] = df[label_cols].replace({1: 'yes', 0: 'no'})\n",
    "\n",
    "\n",
    "# Print the first few rows to verify the changes\n",
    "df['labels'] = df[label_cols].apply(lambda row: ', '.join(f'{col}: {row[col]}' for col in label_cols), axis=1)\n",
    "df.rename(columns={'comment_text': 'text'}, inplace=True)\n",
    "df = df.drop(columns=label_cols)\n",
    "df.to_csv('yesno_train.csv')"
   ]
  },
  {
   "cell_type": "code",
   "execution_count": null,
   "id": "d211db2e-c56b-42ff-904b-170d1ac6b9e5",
   "metadata": {},
   "outputs": [],
   "source": []
  }
 ],
 "metadata": {
  "kernelspec": {
   "display_name": "Python 3 (ipykernel)",
   "language": "python",
   "name": "python3"
  },
  "language_info": {
   "codemirror_mode": {
    "name": "ipython",
    "version": 3
   },
   "file_extension": ".py",
   "mimetype": "text/x-python",
   "name": "python",
   "nbconvert_exporter": "python",
   "pygments_lexer": "ipython3",
   "version": "3.10.12"
  }
 },
 "nbformat": 4,
 "nbformat_minor": 5
}
