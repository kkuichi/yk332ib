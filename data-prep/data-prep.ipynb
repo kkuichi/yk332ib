{
 "cells": [
  {
   "cell_type": "code",
   "execution_count": 1,
   "id": "ffb98284-1bee-43b6-a85e-86c95e591c3d",
   "metadata": {},
   "outputs": [],
   "source": [
    "import pandas as pd\n",
    "from sklearn.model_selection import train_test_split"
   ]
  },
  {
   "cell_type": "code",
   "execution_count": 13,
   "id": "fc8d687a-5a38-4f83-a1fa-e04a6271df72",
   "metadata": {},
   "outputs": [],
   "source": [
    " from sklearn.model_selection import train_test_split\n",
    "\n",
    " data = pd.read_csv('train.csv')\n",
    " train_data, test_data = train_test_split(data, test_size=0.2, random_state=42)\n",
    " train_data.to_csv('train_data.csv', index=False)\n",
    " test_data.to_csv('test_data.csv', index=False)"
   ]
  },
  {
   "cell_type": "code",
   "execution_count": 11,
   "id": "221e4b62-db18-4c99-b291-657cd7e2aac2",
   "metadata": {},
   "outputs": [],
   "source": [
    "ff=pd.read_csv(\"test_data.csv\")\n",
    "col_rm = ['id','toxic','severe_toxic','obscene','threat','insult','identity_hate']\n",
    "ff1=ff.drop(columns=col_rm)\n",
    "ff1.to_csv('test_data.csv', index=False)\n"
   ]
  },
  {
   "cell_type": "code",
   "execution_count": 14,
   "id": "f6191f49-05af-4c30-9492-c44f23691d8d",
   "metadata": {},
   "outputs": [],
   "source": [
    "ff=pd.read_csv(\"train_data.csv\")\n",
    "ff=ff.drop(columns=['id'])\n",
    "ff.to_csv('train_data.csv', index=False)"
   ]
  },
  {
   "cell_type": "code",
   "execution_count": null,
   "id": "1d04b78d-9c17-4853-ab3c-0d592fd51448",
   "metadata": {},
   "outputs": [],
   "source": []
  }
 ],
 "metadata": {
  "kernelspec": {
   "display_name": "Python 3 (ipykernel)",
   "language": "python",
   "name": "python3"
  },
  "language_info": {
   "codemirror_mode": {
    "name": "ipython",
    "version": 3
   },
   "file_extension": ".py",
   "mimetype": "text/x-python",
   "name": "python",
   "nbconvert_exporter": "python",
   "pygments_lexer": "ipython3",
   "version": "3.10.12"
  }
 },
 "nbformat": 4,
 "nbformat_minor": 5
}
